{
 "cells": [
  {
   "cell_type": "code",
   "execution_count": null,
   "metadata": {},
   "outputs": [],
   "source": [
    "# Importar las bibliotecas necesarias\n",
    "import numpy as np\n",
    "import random"
   ]
  },
  {
   "cell_type": "code",
   "execution_count": null,
   "metadata": {},
   "outputs": [],
   "source": [
    "def read_workspace(file_path):\n",
    "    with open(file_path, 'r') as file:\n",
    "        lines = file.readlines()\n",
    "    \n",
    "    # Leer dimensiones\n",
    "    n, m = map(int, lines[0].strip().split())\n",
    "    \n",
    "    # Crear la matriz de la oficina\n",
    "    workspace = []\n",
    "    for line in lines[1:]:\n",
    "        workspace.append(line.strip().split())\n",
    "    \n",
    "    return n, m, np.array(workspace)\n",
    "\n",
    "# Ejemplo de uso\n",
    "file_path = 'workspace.txt'\n",
    "n, m, workspace = read_workspace(file_path)\n",
    "print(workspace)\n"
   ]
  }
 ],
 "metadata": {
  "language_info": {
   "name": "python"
  }
 },
 "nbformat": 4,
 "nbformat_minor": 2
}
